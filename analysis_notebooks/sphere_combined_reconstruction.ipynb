{
 "cells": [
  {
   "cell_type": "code",
   "execution_count": 2,
   "metadata": {},
   "outputs": [],
   "source": [
    "import numpy as np\n",
    "import os\n",
    "import matplotlib.pyplot as plt\n",
    "\n",
    "import h5py\n",
    "import sys\n",
    "sys.path.append('../')\n",
    "import analysis_utils as utils\n",
    "\n",
    "from scipy.optimize import curve_fit\n",
    "from scipy.special import erf\n",
    "from scipy.signal import decimate\n",
    "\n",
    "yale_colors = ['#00356b', '#286dc0', '#63aaff', '#4a4a4a']\n",
    "utils.load_plotting_setting()\n",
    "\n",
    "from matplotlib.gridspec import GridSpec\n",
    "from matplotlib.ticker import LogLocator, NullFormatter, MultipleLocator"
   ]
  },
  {
   "cell_type": "code",
   "execution_count": 3,
   "metadata": {},
   "outputs": [],
   "source": [
    "## Calibration values for Sphere 20250103\n",
    "c_mv = 8.263269630174246e-08\n",
    "amp2kev = 7396.062147743912\n",
    "sigma_p = 193.80085102332893  # keV/c"
   ]
  },
  {
   "cell_type": "code",
   "execution_count": null,
   "metadata": {},
   "outputs": [],
   "source": [
    "def get_normalized_template(sphere, voltage, downsampled=False):\n",
    "    pulse_shape_file = np.load(rf'/Users/yuhan/work/nanospheres/dm_nanospheres/data_processed/pulse_shape/{sphere}_pulse_shape_template_{voltage}v.npz')\n",
    "    pulse_shapes = pulse_shape_file['pulse_shape']\n",
    "    pulse_shape_template = np.mean(pulse_shapes, axis=0)\n",
    "\n",
    "    normalized_template = pulse_shape_template / np.max(pulse_shape_template)\n",
    "\n",
    "    # Take the central 0.2 ms around the peak\n",
    "    ret = normalized_template[1000:2000]\n",
    "\n",
    "    # Downsample to 500 kHz (so the 200 us template has 100 indices)\n",
    "    if downsampled:\n",
    "        ret_downsampled = decimate(ret, 10)\n",
    "        return ret_downsampled / np.max(ret_downsampled)\n",
    "    else:\n",
    "        return ret"
   ]
  },
  {
   "cell_type": "code",
   "execution_count": 62,
   "metadata": {},
   "outputs": [
    {
     "data": {
      "text/plain": [
       "1.0"
      ]
     },
     "execution_count": 62,
     "metadata": {},
     "output_type": "execute_result"
    }
   ],
   "source": [
    "np.max(normalized_template_downsampled)"
   ]
  },
  {
   "cell_type": "code",
   "execution_count": 44,
   "metadata": {},
   "outputs": [],
   "source": [
    "normalized_template_downsampled = get_normalized_template('sphere_20250103', 20, True)\n"
   ]
  },
  {
   "cell_type": "code",
   "execution_count": 4,
   "metadata": {},
   "outputs": [],
   "source": [
    "file = r'/Volumes/LaCie/dm_data/sphere_20250103/20250111_1e-8mbar_8e_alignment1_long/20250111_d_0.hdf5'\n",
    "\n",
    "f = h5py.File(file, \"r\")\n",
    "\n",
    "dtt = f['data'].attrs['delta_t']\n",
    "fs = int(np.ceil(1 / dtt))   # Sampling rate at Hz\n",
    "zz = f['data']['channel_d'][:] * f['data']['channel_d'].attrs['adc2mv'] / 1e3  # Signal in V"
   ]
  },
  {
   "cell_type": "code",
   "execution_count": 6,
   "metadata": {},
   "outputs": [],
   "source": [
    "window_length = 5000\n",
    "\n",
    "zz_bp = utils.bandpass_filtered(zz, fs, 30000, 80000)\n",
    "zz_bp_shaped = np.reshape(zz_bp, (int(zz_bp.size / window_length), window_length))"
   ]
  },
  {
   "cell_type": "code",
   "execution_count": 77,
   "metadata": {},
   "outputs": [],
   "source": [
    "_zz_bp = zz_bp_shaped[5]\n",
    "_amp, amp_lp, temp = utils.recon_force(dtt, _zz_bp, c_mv)\n",
    "\n",
    "lb, ub = 100, -50\n",
    "amp_search = np.abs(amp_lp[lb:ub])\n",
    "amp_reshaped = np.reshape(amp_search, (int(amp_search.size/25), 25))\n",
    "amp_searched = np.max(amp_reshaped, axis=1)"
   ]
  },
  {
   "cell_type": "code",
   "execution_count": 78,
   "metadata": {},
   "outputs": [],
   "source": [
    "amp_searched_idx = np.argmax(amp_reshaped, axis=1)"
   ]
  },
  {
   "cell_type": "code",
   "execution_count": 80,
   "metadata": {},
   "outputs": [],
   "source": [
    "def get_idx_in_window(amp_searched_idx, search_length, lb):\n",
    "    ret = np.empty_like(amp_searched_idx)\n",
    "\n",
    "    for i, amp_idx in enumerate(amp_searched_idx):\n",
    "        ret[i] = amp_idx + lb + search_length*i\n",
    "    \n",
    "    return ret"
   ]
  },
  {
   "cell_type": "code",
   "execution_count": 90,
   "metadata": {},
   "outputs": [
    {
     "data": {
      "text/plain": [
       "(194,)"
      ]
     },
     "execution_count": 90,
     "metadata": {},
     "output_type": "execute_result"
    }
   ],
   "source": [
    "amp_searched_idx_in_window.shape"
   ]
  },
  {
   "cell_type": "code",
   "execution_count": 82,
   "metadata": {},
   "outputs": [],
   "source": [
    "amp_searched_idx_in_window = get_idx_in_window(amp_searched_idx, 25, 100)"
   ]
  },
  {
   "cell_type": "code",
   "execution_count": null,
   "metadata": {},
   "outputs": [],
   "source": [
    "def calc_chisquares(amp_lp, indices_in_window, normalized_template, sigma_amp):\n",
    "    ret = np.empty(indices_in_window.shape, np.float64)\n",
    "\n",
    "    for i, idx in enumerate(indices_in_window):\n",
    "        amp = amp_lp[idx]\n",
    "        waveform = amp_lp[idx-50 : idx+50]\n",
    "\n",
    "        # Amplitude can be negative so no need to ajust for polarity\n",
    "        template_scaled = amp * normalized_template\n",
    "\n",
    "        # Sigma should be in amplitude (not keV)\n",
    "        ret[i] = np.sum( ((waveform - template_scaled)/sigma_amp)**2 )\n",
    "        \n",
    "    return ret"
   ]
  },
  {
   "cell_type": "code",
   "execution_count": 87,
   "metadata": {},
   "outputs": [],
   "source": [
    "chisquares = calc_chisquares(amp_lp, amp_searched_idx_in_window, normalized_template_downsampled, sigma_p/amp2kev)"
   ]
  },
  {
   "cell_type": "code",
   "execution_count": 89,
   "metadata": {},
   "outputs": [
    {
     "data": {
      "text/plain": [
       "[<matplotlib.lines.Line2D at 0x12f90a450>]"
      ]
     },
     "execution_count": 89,
     "metadata": {},
     "output_type": "execute_result"
    },
    {
     "data": {
      "image/png": "[encoded data removed]",
      "text/plain": [
       "<Figure size 700x500 with 1 Axes>"
      ]
     },
     "metadata": {},
     "output_type": "display_data"
    }
   ],
   "source": [
    "bins = np.linspace(0, np.max(chisquares), 20)\n",
    "hh, be = np.histogram(chisquares, bins)\n",
    "bc = 0.5 * (be[1:] + be[:-1])\n",
    "\n",
    "plt.plot(bc, hh)"
   ]
  },
  {
   "cell_type": "code",
   "execution_count": 84,
   "metadata": {},
   "outputs": [
    {
     "data": {
      "text/plain": [
       "array([ 0.08772101,  0.05669152, -0.06897341,  0.05653008, -0.07798194,\n",
       "        0.03708756,  0.04993439, -0.06371964, -0.03841992, -0.04374218,\n",
       "        0.06077316, -0.03494775, -0.05947568, -0.06498815, -0.02708954,\n",
       "        0.04122268,  0.05684673,  0.02078069,  0.03954533, -0.05486119,\n",
       "       -0.05598166,  0.08086065, -0.05981752,  0.06866513,  0.04300902,\n",
       "       -0.04741949,  0.03981559,  0.04895975, -0.038152  ,  0.05438   ,\n",
       "       -0.06760482, -0.06856493,  0.04958079,  0.04539088,  0.06018391,\n",
       "       -0.0465434 , -0.05463856, -0.04855631,  0.03943739,  0.0618602 ,\n",
       "        0.07207361, -0.0671569 ,  0.06149261, -0.06339936,  0.05176493,\n",
       "        0.02132841, -0.04797946,  0.05793515, -0.05199201,  0.03747432,\n",
       "        0.05914015, -0.03919056, -0.03902831, -0.04452541,  0.04742779,\n",
       "       -0.06319027,  0.0464343 ,  0.06232497,  0.06121025,  0.04674837,\n",
       "        0.05277347, -0.04732615,  0.04276151,  0.01767062,  0.03503062,\n",
       "       -0.03522466,  0.06469446, -0.06731397, -0.05377975, -0.02767778,\n",
       "       -0.0496261 , -0.05997322,  0.03546387,  0.04564219, -0.03642308,\n",
       "        0.0572006 ,  0.05101632,  0.05406378,  0.03351365, -0.039404  ,\n",
       "        0.06969177, -0.04695182,  0.03161555, -0.05165056, -0.06688992,\n",
       "       -0.05265381,  0.04124551, -0.05229744,  0.06880748,  0.04421471,\n",
       "       -0.03796292,  0.0328394 ,  0.05513828, -0.0728612 ,  0.036952  ,\n",
       "       -0.04091976, -0.04776545, -0.05996431, -0.03401014, -0.03748267,\n",
       "       -0.05269728, -0.0373314 , -0.0411202 ,  0.05852451,  0.04067758,\n",
       "       -0.03493869, -0.04391875, -0.05683619,  0.0547329 , -0.0634536 ,\n",
       "        0.06822412,  0.05727741, -0.03563938,  0.03871024, -0.05298437,\n",
       "        0.05055254, -0.03129545,  0.06076663,  0.05108257,  0.04091887,\n",
       "        0.05107669, -0.0524579 ,  0.05842314, -0.06592023,  0.07518035,\n",
       "        0.05081116,  0.06584178,  0.04891808, -0.04251218,  0.0634566 ,\n",
       "       -0.04806497, -0.04419371,  0.05878081, -0.05652033,  0.09114606,\n",
       "        0.04978801,  0.06456906, -0.06326361,  0.04280996, -0.04231887,\n",
       "        0.0770701 ,  0.06092532,  0.06242575,  0.08423946,  0.0476597 ,\n",
       "       -0.02805916,  0.05909658,  0.04697971, -0.06365765,  0.04985254,\n",
       "        0.04870685, -0.06959984, -0.03824897,  0.02398387, -0.06681349,\n",
       "       -0.03935243,  0.03926495, -0.05211814,  0.02387021,  0.05112792,\n",
       "        0.04012937, -0.03978802,  0.04866826,  0.05977695, -0.05894671,\n",
       "       -0.05296595, -0.05443538,  0.05607757,  0.0311548 ,  0.04606271,\n",
       "        0.04877118,  0.06435275, -0.05186032, -0.0540592 , -0.0377924 ,\n",
       "        0.0537761 , -0.0559106 ,  0.04827924,  0.04406566,  0.05651886,\n",
       "       -0.04794306, -0.04732568, -0.05836201, -0.06617558,  0.05678453,\n",
       "       -0.04040651,  0.04429276, -0.03084189, -0.08181037, -0.05232476,\n",
       "        0.04006909,  0.04527882,  0.03538074,  0.02775591])"
      ]
     },
     "execution_count": 84,
     "metadata": {},
     "output_type": "execute_result"
    }
   ],
   "source": [
    "amp_lp[amp_searched_idx_in_window]"
   ]
  },
  {
   "cell_type": "code",
   "execution_count": 83,
   "metadata": {},
   "outputs": [
    {
     "data": {
      "text/plain": [
       "array([0.08772101, 0.05669152, 0.06897341, 0.05653008, 0.07798194,\n",
       "       0.03708756, 0.04993439, 0.06371964, 0.03841992, 0.04374218,\n",
       "       0.06077316, 0.03494775, 0.05947568, 0.06498815, 0.02708954,\n",
       "       0.04122268, 0.05684673, 0.02078069, 0.03954533, 0.05486119,\n",
       "       0.05598166, 0.08086065, 0.05981752, 0.06866513, 0.04300902,\n",
       "       0.04741949, 0.03981559, 0.04895975, 0.038152  , 0.05438   ,\n",
       "       0.06760482, 0.06856493, 0.04958079, 0.04539088, 0.06018391,\n",
       "       0.0465434 , 0.05463856, 0.04855631, 0.03943739, 0.0618602 ,\n",
       "       0.07207361, 0.0671569 , 0.06149261, 0.06339936, 0.05176493,\n",
       "       0.02132841, 0.04797946, 0.05793515, 0.05199201, 0.03747432,\n",
       "       0.05914015, 0.03919056, 0.03902831, 0.04452541, 0.04742779,\n",
       "       0.06319027, 0.0464343 , 0.06232497, 0.06121025, 0.04674837,\n",
       "       0.05277347, 0.04732615, 0.04276151, 0.01767062, 0.03503062,\n",
       "       0.03522466, 0.06469446, 0.06731397, 0.05377975, 0.02767778,\n",
       "       0.0496261 , 0.05997322, 0.03546387, 0.04564219, 0.03642308,\n",
       "       0.0572006 , 0.05101632, 0.05406378, 0.03351365, 0.039404  ,\n",
       "       0.06969177, 0.04695182, 0.03161555, 0.05165056, 0.06688992,\n",
       "       0.05265381, 0.04124551, 0.05229744, 0.06880748, 0.04421471,\n",
       "       0.03796292, 0.0328394 , 0.05513828, 0.0728612 , 0.036952  ,\n",
       "       0.04091976, 0.04776545, 0.05996431, 0.03401014, 0.03748267,\n",
       "       0.05269728, 0.0373314 , 0.0411202 , 0.05852451, 0.04067758,\n",
       "       0.03493869, 0.04391875, 0.05683619, 0.0547329 , 0.0634536 ,\n",
       "       0.06822412, 0.05727741, 0.03563938, 0.03871024, 0.05298437,\n",
       "       0.05055254, 0.03129545, 0.06076663, 0.05108257, 0.04091887,\n",
       "       0.05107669, 0.0524579 , 0.05842314, 0.06592023, 0.07518035,\n",
       "       0.05081116, 0.06584178, 0.04891808, 0.04251218, 0.0634566 ,\n",
       "       0.04806497, 0.04419371, 0.05878081, 0.05652033, 0.09114606,\n",
       "       0.04978801, 0.06456906, 0.06326361, 0.04280996, 0.04231887,\n",
       "       0.0770701 , 0.06092532, 0.06242575, 0.08423946, 0.0476597 ,\n",
       "       0.02805916, 0.05909658, 0.04697971, 0.06365765, 0.04985254,\n",
       "       0.04870685, 0.06959984, 0.03824897, 0.02398387, 0.06681349,\n",
       "       0.03935243, 0.03926495, 0.05211814, 0.02387021, 0.05112792,\n",
       "       0.04012937, 0.03978802, 0.04866826, 0.05977695, 0.05894671,\n",
       "       0.05296595, 0.05443538, 0.05607757, 0.0311548 , 0.04606271,\n",
       "       0.04877118, 0.06435275, 0.05186032, 0.0540592 , 0.0377924 ,\n",
       "       0.0537761 , 0.0559106 , 0.04827924, 0.04406566, 0.05651886,\n",
       "       0.04794306, 0.04732568, 0.05836201, 0.06617558, 0.05678453,\n",
       "       0.04040651, 0.04429276, 0.03084189, 0.08181037, 0.05232476,\n",
       "       0.04006909, 0.04527882, 0.03538074, 0.02775591])"
      ]
     },
     "execution_count": 83,
     "metadata": {},
     "output_type": "execute_result"
    }
   ],
   "source": [
    "amp_searched"
   ]
  },
  {
   "cell_type": "code",
   "execution_count": null,
   "metadata": {},
   "outputs": [],
   "source": []
  },
  {
   "cell_type": "code",
   "execution_count": 79,
   "metadata": {},
   "outputs": [
    {
     "data": {
      "text/plain": [
       "array([18,  0, 12, 21,  5, 24,  6, 13, 14,  5,  3,  2, 12, 13, 24,  3,  1,\n",
       "        8, 11, 22, 22,  0, 21,  0,  0, 23,  1, 20, 11, 11,  0, 10,  2, 16,\n",
       "        6, 12,  4, 17, 13, 24,  6, 24,  3, 23,  2, 15, 22,  0, 20,  2, 16,\n",
       "       14, 17, 10,  9,  7,  6, 10,  1,  8, 20,  5,  9, 13, 22, 21, 23, 24,\n",
       "        0,  4, 24,  0,  0, 14,  7, 10, 12,  6,  2, 24,  8, 11, 23, 23,  5,\n",
       "       23,  1, 24,  3, 19, 16,  1, 13, 11,  6, 15, 10,  9, 15, 24, 18, 11,\n",
       "        9, 10,  3,  9,  9,  7, 23,  1, 11, 17,  7,  8, 22,  1, 14, 24,  0,\n",
       "       21, 20, 14, 22,  8,  7, 21,  2, 19,  5,  5, 17, 11, 14, 24,  2, 11,\n",
       "       12, 14,  7,  2, 15, 12,  3, 11,  5, 17, 11,  9, 17, 20, 24,  4, 16,\n",
       "       12, 10,  8, 21, 16, 17,  6, 12,  9,  5, 22, 20,  7,  3,  4,  4,  6,\n",
       "       24,  7, 18,  7,  2,  5, 16,  6, 12,  9,  1, 16,  9, 11,  6,  1, 24,\n",
       "        2,  7,  5, 18,  6, 17,  7])"
      ]
     },
     "execution_count": 79,
     "metadata": {},
     "output_type": "execute_result"
    }
   ],
   "source": [
    "amp_searched_idx"
   ]
  },
  {
   "cell_type": "code",
   "execution_count": null,
   "metadata": {},
   "outputs": [
    {
     "ename": "TypeError",
     "evalue": "only integer scalar arrays can be converted to a scalar index",
     "output_type": "error",
     "traceback": [
      "\u001b[0;31m---------------------------------------------------------------------------\u001b[0m",
      "\u001b[0;31mTypeError\u001b[0m                                 Traceback (most recent call last)",
      "Cell \u001b[0;32mIn[70], line 1\u001b[0m\n\u001b[0;32m----> 1\u001b[0m amp_reshaped[:amp_searched_idx]\u001b[38;5;241m.\u001b[39mshape\n",
      "\u001b[0;31mTypeError\u001b[0m: only integer scalar arrays can be converted to a scalar index"
     ]
    }
   ],
   "source": [
    "amp_reshaped[amp_searched_idx]"
   ]
  },
  {
   "cell_type": "code",
   "execution_count": 75,
   "metadata": {},
   "outputs": [
    {
     "data": {
      "text/plain": [
       "(194, 25)"
      ]
     },
     "execution_count": 75,
     "metadata": {},
     "output_type": "execute_result"
    }
   ],
   "source": [
    "np.take(amp_reshaped, amp_searched_idx, axis=0).shape"
   ]
  },
  {
   "cell_type": "code",
   "execution_count": 74,
   "metadata": {},
   "outputs": [
    {
     "data": {
      "text/plain": [
       "(194, 25)"
      ]
     },
     "execution_count": 74,
     "metadata": {},
     "output_type": "execute_result"
    }
   ],
   "source": [
    "amp_reshaped.shape"
   ]
  },
  {
   "cell_type": "code",
   "execution_count": null,
   "metadata": {},
   "outputs": [],
   "source": []
  },
  {
   "cell_type": "code",
   "execution_count": 60,
   "metadata": {},
   "outputs": [
    {
     "data": {
      "text/plain": [
       "(194,)"
      ]
     },
     "execution_count": 60,
     "metadata": {},
     "output_type": "execute_result"
    }
   ],
   "source": [
    "amp_searched.shape"
   ]
  },
  {
   "cell_type": "code",
   "execution_count": 57,
   "metadata": {},
   "outputs": [
    {
     "data": {
      "text/plain": [
       "[<matplotlib.lines.Line2D at 0x12f60d6d0>]"
      ]
     },
     "execution_count": 57,
     "metadata": {},
     "output_type": "execute_result"
    },
    {
     "data": {
      "image/png": "[encoded data removed]",
      "text/plain": [
       "<Figure size 700x500 with 1 Axes>"
      ]
     },
     "metadata": {},
     "output_type": "display_data"
    }
   ],
   "source": [
    "plt.plot(amp_lp[:100] * amp2kev )\n",
    "plt.plot(amp_lp[-100:] * amp2kev )\n",
    "plt.plot(normalized_template_downsampled*5000)\n",
    "\n",
    "# plt.ylim(-1000, 1000)"
   ]
  },
  {
   "cell_type": "code",
   "execution_count": 51,
   "metadata": {},
   "outputs": [
    {
     "data": {
      "text/plain": [
       "0.04"
      ]
     },
     "execution_count": 51,
     "metadata": {},
     "output_type": "execute_result"
    }
   ],
   "source": [
    "200 / 5000"
   ]
  },
  {
   "cell_type": "code",
   "execution_count": null,
   "metadata": {},
   "outputs": [],
   "source": []
  },
  {
   "cell_type": "code",
   "execution_count": 114,
   "metadata": {},
   "outputs": [],
   "source": [
    "file = r'/Volumes/Expansion/dm_data_processed_amp_chisquare/sphere_20250103/20250104_4e-8mbar_alignment0_long/20250104_d_100_processed.hdf5'\n",
    "\n",
    "fout = h5py.File(file, \"r\")\n",
    "g = fout['data_processed']\n",
    "\n",
    "amp = g['amplitude'][:]\n",
    "chi2 = g['chisquare'][:]\n",
    "indices = g['idx_in_window'][:]"
   ]
  },
  {
   "cell_type": "code",
   "execution_count": 120,
   "metadata": {},
   "outputs": [
    {
     "data": {
      "text/plain": [
       "1164000"
      ]
     },
     "execution_count": 120,
     "metadata": {},
     "output_type": "execute_result"
    }
   ],
   "source": [
    "amp.size"
   ]
  },
  {
   "cell_type": "code",
   "execution_count": null,
   "metadata": {},
   "outputs": [],
   "source": []
  },
  {
   "cell_type": "code",
   "execution_count": 115,
   "metadata": {},
   "outputs": [
    {
     "data": {
      "image/png": "[encoded data removed]",
      "text/plain": [
       "<Figure size 700x500 with 1 Axes>"
      ]
     },
     "metadata": {},
     "output_type": "display_data"
    }
   ],
   "source": [
    "bins = np.arange(0, 10000, 50)  # keV\n",
    "bc = 0.5 * (bins[:-1] + bins[1:])\n",
    "\n",
    "hh, be = np.histogram(np.abs(amp.flatten())*amp2kev, bins)\n",
    "\n",
    "plt.plot(bc, hh)\n",
    "plt.yscale('log')"
   ]
  },
  {
   "cell_type": "code",
   "execution_count": 121,
   "metadata": {},
   "outputs": [
    {
     "data": {
      "text/plain": [
       "(0.0, 2500.0)"
      ]
     },
     "execution_count": 121,
     "metadata": {},
     "output_type": "execute_result"
    },
    {
     "data": {
      "image/png": "[encoded data removed]",
      "text/plain": [
       "<Figure size 700x500 with 1 Axes>"
      ]
     },
     "metadata": {},
     "output_type": "display_data"
    }
   ],
   "source": [
    "bins = np.linspace(0, 1000, 50)\n",
    "hh, be = np.histogram(chi2.flatten(), bins)\n",
    "bc = 0.5 * (be[1:] + be[:-1])\n",
    "\n",
    "plt.plot(bc, hh)\n",
    "plt.xlim(0, 2500)"
   ]
  },
  {
   "cell_type": "code",
   "execution_count": null,
   "metadata": {},
   "outputs": [],
   "source": []
  }
 ],
 "metadata": {
  "kernelspec": {
   "display_name": "nanospheres",
   "language": "python",
   "name": "nanospheres"
  },
  "language_info": {
   "codemirror_mode": {
    "name": "ipython",
    "version": 3
   },
   "file_extension": ".py",
   "mimetype": "text/x-python",
   "name": "python",
   "nbconvert_exporter": "python",
   "pygments_lexer": "ipython3",
   "version": "3.12.4"
  }
 },
 "nbformat": 4,
 "nbformat_minor": 2
}
